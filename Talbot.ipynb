{
  "nbformat": 4,
  "nbformat_minor": 0,
  "metadata": {
    "colab": {
      "name": "Talbot.ipynb",
      "provenance": [],
      "collapsed_sections": [],
      "include_colab_link": true
    },
    "kernelspec": {
      "name": "python3",
      "display_name": "Python 3"
    },
    "language_info": {
      "name": "python"
    }
  },
  "cells": [
    {
      "cell_type": "markdown",
      "metadata": {
        "id": "view-in-github",
        "colab_type": "text"
      },
      "source": [
        "<a href=\"https://colab.research.google.com/github/ivsantiagocz/Entrega-2/blob/main/Talbot.ipynb\" target=\"_parent\"><img src=\"https://colab.research.google.com/assets/colab-badge.svg\" alt=\"Open In Colab\"/></a>"
      ]
    },
    {
      "cell_type": "code",
      "metadata": {
        "id": "o22BNLfVTLfC"
      },
      "source": [
        "import numpy as np\n",
        "import matplotlib.pyplot as plt\n",
        "from PIL import Image\n",
        "from mpl_toolkits.mplot3d import Axes3D\n",
        "from numpy.fft import fft2, fftshift, ifft2 "
      ],
      "execution_count": 53,
      "outputs": []
    },
    {
      "cell_type": "code",
      "metadata": {
        "id": "lLTzXoj5rR2u"
      },
      "source": [
        "def smask(N,T):\n",
        "  mask=np.zeros((N,N))\n",
        "  for i in range(0,N):\n",
        "    for j in range(0,N):\n",
        "       mask[i,j] = ((1/2)*(1+1*np.cos(((2*np.pi*j)/T))))\n",
        "  return mask"
      ],
      "execution_count": 54,
      "outputs": []
    },
    {
      "cell_type": "code",
      "metadata": {
        "id": "BI3inKRVQte6",
        "colab": {
          "base_uri": "https://localhost:8080/"
        },
        "outputId": "ca0ba45c-11e1-4a0a-ce33-32ca7e09a9a7"
      },
      "source": [
        "wl= 633e-6\n",
        "L= 5 #medida en milimetros del objeto\n",
        "N= 1024  #numero de particiones del objeto\n",
        "dx= L/N #tamaño de particiones del objeto\n",
        "T=5*dx\n",
        "No=4 #-(1/2)\n",
        "z=No*(T**2)/(wl)\n",
        "ut= smask(N,T)\n",
        "\n",
        "hh= np.zeros((N,N))*np.exp(-1j*0)\n",
        "print (\"z=\", z)\n",
        "\n",
        "k=(2*np.pi)/wl\n",
        "print(T)"
      ],
      "execution_count": 55,
      "outputs": [
        {
          "output_type": "stream",
          "name": "stdout",
          "text": [
            "z= 3.766486241730845\n",
            "0.0244140625\n"
          ]
        }
      ]
    },
    {
      "cell_type": "code",
      "metadata": {
        "colab": {
          "base_uri": "https://localhost:8080/",
          "height": 821
        },
        "id": "al3_FMx_qkZK",
        "outputId": "bdc5d55d-a9c2-4a2d-e097-c984d152b96c"
      },
      "source": [
        "if (z>=(N*(dx)**2)/wl):\n",
        "    print(\"z está en el dominio de aplicación de DD de FF\")\n",
        "    for t in range(0,N):\n",
        "                for s in range(0,N):\n",
        "        \n",
        "                    h=np.exp(1j*k*((dx*(t-(N/2)))**2 + (dx*(s-(N/2)))**2)/(2*z))\n",
        "\n",
        "                    hh[t,s]=h \n",
        "                             \n",
        "    hh=np.fft.fft(hh)\n",
        "    Ut = ut*hh\n",
        "                \n",
        "    U1=np.fft.fft2(Ut)\n",
        "    Uf=np.fft.fft(U1)\n",
        "    UU=abs(Uf*Uf)\n",
        "    \n",
        "    \n",
        "    plt.figure(figsize=(7,4))\n",
        "    plt.imshow(np.angle(hh),cmap='gray',extent=(-L/2,L/2,-L/2,L/2))\n",
        "    plt.ylabel('mm')\n",
        "    plt.xlabel('mm')\n",
        "    plt.show()\n",
        "\n",
        "\n",
        "\n",
        "    zoom=4\n",
        "    plt.figure(figsize=(7,4))\n",
        "    plt.xlim(-1/zoom,1/zoom)\n",
        "    plt.ylim(-1/zoom,1/zoom)\n",
        "    plt.imshow((ut*ut),cmap='gray',extent=(-L/2,L/2,-L/2,L/2))\n",
        "    plt.ylabel('mm')\n",
        "    plt.xlabel('mm')\n",
        "    plt.show()\n",
        "\n",
        "    zoom=4\n",
        "    plt.figure(figsize=(7,4))\n",
        "    plt.xlim(-1/zoom,1/zoom)\n",
        "    plt.ylim(-1/zoom,1/zoom)\n",
        "    plt.imshow(UU,cmap='gray',extent=(-L/2,L/2,-L/2,L/2))\n",
        "    plt.ylabel('mm')\n",
        "    plt.xlabel('mm')\n",
        "    #plt.grid(True)\n",
        "    plt.show()\n",
        "else:\n",
        "    print(\"z está en el domino de aplicación de ID de EA\")\n",
        "    for t in range(0,N):\n",
        "                for s in range(0,N):\n",
        "        \n",
        "                    h= np.exp(1j*k*z*np.sqrt(1-(wl**2)*(((t-(N/2))/(N*dx))**2 + ((s-(N/2))/(N*dx))**2)))\n",
        "                    hh[t,s]=h \n",
        "\n",
        "    h1=np.fft.fft(hh)\n",
        "    g=np.fft.fft2(ut)\n",
        "    #gt=np.fft.fftshift(g)\n",
        "\n",
        "                             \n",
        "    Ut = g*hh\n",
        "    \n",
        "    \n",
        "    U1=np.fft.ifft2(Ut)\n",
        "    #Uf=np.fft.fftshift(U1)\n",
        "    UU=abs(U1*U1)\n",
        "    #UU=U*U\n",
        "    #I = Image.fromarray(abs(U), 'P')\n",
        "    plt.figure(figsize=(7,4))\n",
        "    im1 = plt.imshow(np.angle(h1),cmap='gray',extent=(-L/2,L/2,-L/2,L/2))\n",
        "    plt.ylabel('mm')\n",
        "    plt.xlabel('mm')\n",
        "    plt.colorbar(im1,shrink=0.5)\n",
        "    plt.show()\n",
        "\n",
        "    zoom=4\n",
        "    plt.figure(figsize=(7,4))\n",
        "    plt.xlim(-1/zoom,1/zoom)\n",
        "    plt.ylim(-1/zoom,1/zoom)\n",
        "    im3 = plt.imshow((ut*ut),cmap='gray',extent=(-L/2,L/2,-L/2,L/2))\n",
        "    plt.ylabel('mm')\n",
        "    plt.xlabel('mm')\n",
        "    plt.colorbar(im1,shrink=0.5)\n",
        "    plt.show()\n",
        "\n",
        "\n",
        "    zoom=4\n",
        "    plt.figure(figsize=(7,4))\n",
        "    plt.xlim(-1/zoom,1/zoom)\n",
        "    plt.ylim(-1/zoom,1/zoom)\n",
        "    im2 = plt.imshow(UU,cmap='gray',extent=(-L/2,L/2,-L/2,L/2))\n",
        "    plt.ylabel('mm')\n",
        "    plt.xlabel('mm')\n",
        "    #plt.grid(False)\n",
        "    plt.show()"
      ],
      "execution_count": 56,
      "outputs": [
        {
          "output_type": "stream",
          "name": "stdout",
          "text": [
            "z está en el domino de aplicación de ID de EA\n"
          ]
        },
        {
          "output_type": "display_data",
          "data": {
            "image/png": "[encoded data removed]",
            "text/plain": [
              "<Figure size 504x288 with 2 Axes>"
            ]
          },
          "metadata": {
            "needs_background": "light"
          }
        },
        {
          "output_type": "display_data",
          "data": {
            "image/png": "[encoded data removed]",
            "text/plain": [
              "<Figure size 504x288 with 2 Axes>"
            ]
          },
          "metadata": {
            "needs_background": "light"
          }
        },
        {
          "output_type": "display_data",
          "data": {
            "image/png": "[encoded data removed]",
            "text/plain": [
              "<Figure size 504x288 with 1 Axes>"
            ]
          },
          "metadata": {
            "needs_background": "light"
          }
        }
      ]
    }
  ]
}